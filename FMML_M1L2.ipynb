{
  "cells": [
    {
      "cell_type": "markdown",
      "metadata": {
        "id": "view-in-github",
        "colab_type": "text"
      },
      "source": [
        "<a href=\"https://colab.research.google.com/github/Shrut718/FMML--lab/blob/main/FMML_M1L2.ipynb\" target=\"_parent\"><img src=\"https://colab.research.google.com/assets/colab-badge.svg\" alt=\"Open In Colab\"/></a>"
      ]
    },
    {
      "cell_type": "markdown",
      "metadata": {
        "id": "3Eu9VZbF01eq"
      },
      "source": [
        "# Machine Learning terms and metrics\n",
        "\n",
        "FMML Module 1, Lab 2\n",
        "\n",
        "In this lab, we will show a part of the ML pipeline by using the California Housing dataset. There are 20640 samples, each with 8 attributes like income of the block, age of the houses per district etc. The task is to predict the cost of the houses per district. We will use the scikit-learn library to load the data and perform some basic data preprocessing and model training. We will also show how to evaluate the model using some common metrics, split the data into training and testing sets, and use cross-validation to get a better estimate of the model's performance."
      ]
    },
    {
      "cell_type": "code",
      "execution_count": 1,
      "metadata": {
        "id": "8qBvyEem0vLi"
      },
      "outputs": [],
      "source": [
        "import numpy as np\n",
        "from sklearn import datasets\n",
        "import matplotlib.pyplot as plt\n",
        "\n",
        "rng = np.random.default_rng(seed=42)"
      ]
    },
    {
      "cell_type": "code",
      "execution_count": 2,
      "metadata": {
        "colab": {
          "base_uri": "https://localhost:8080/"
        },
        "id": "8LpqjN991GGJ",
        "outputId": "0bab97c4-b071-4cb7-a9bf-6e500aa04abf"
      },
      "outputs": [
        {
          "output_type": "stream",
          "name": "stdout",
          "text": [
            ".. _california_housing_dataset:\n",
            "\n",
            "California Housing dataset\n",
            "--------------------------\n",
            "\n",
            "**Data Set Characteristics:**\n",
            "\n",
            ":Number of Instances: 20640\n",
            "\n",
            ":Number of Attributes: 8 numeric, predictive attributes and the target\n",
            "\n",
            ":Attribute Information:\n",
            "    - MedInc        median income in block group\n",
            "    - HouseAge      median house age in block group\n",
            "    - AveRooms      average number of rooms per household\n",
            "    - AveBedrms     average number of bedrooms per household\n",
            "    - Population    block group population\n",
            "    - AveOccup      average number of household members\n",
            "    - Latitude      block group latitude\n",
            "    - Longitude     block group longitude\n",
            "\n",
            ":Missing Attribute Values: None\n",
            "\n",
            "This dataset was obtained from the StatLib repository.\n",
            "https://www.dcc.fc.up.pt/~ltorgo/Regression/cal_housing.html\n",
            "\n",
            "The target variable is the median house value for California districts,\n",
            "expressed in hundreds of thousands of dollars ($100,000).\n",
            "\n",
            "This dataset was derived from the 1990 U.S. census, using one row per census\n",
            "block group. A block group is the smallest geographical unit for which the U.S.\n",
            "Census Bureau publishes sample data (a block group typically has a population\n",
            "of 600 to 3,000 people).\n",
            "\n",
            "A household is a group of people residing within a home. Since the average\n",
            "number of rooms and bedrooms in this dataset are provided per household, these\n",
            "columns may take surprisingly large values for block groups with few households\n",
            "and many empty houses, such as vacation resorts.\n",
            "\n",
            "It can be downloaded/loaded using the\n",
            ":func:`sklearn.datasets.fetch_california_housing` function.\n",
            "\n",
            ".. rubric:: References\n",
            "\n",
            "- Pace, R. Kelley and Ronald Barry, Sparse Spatial Autoregressions,\n",
            "  Statistics and Probability Letters, 33 (1997) 291-297\n",
            "\n"
          ]
        }
      ],
      "source": [
        "dataset = datasets.fetch_california_housing()\n",
        "# Dataset description\n",
        "print(dataset.DESCR)"
      ]
    },
    {
      "cell_type": "markdown",
      "metadata": {
        "id": "PCe1VNftevgE"
      },
      "source": [
        "Given below are the list of target values. These correspond to the house value derived considering all the 8 input features and are continuous values. We should use regression models to predict these values but we will start with a simple classification model for the sake of simplicity. We need to just round off the values to the nearest integer and use a classification model to predict the house value."
      ]
    },
    {
      "cell_type": "code",
      "execution_count": 3,
      "metadata": {
        "colab": {
          "base_uri": "https://localhost:8080/"
        },
        "id": "F8K0ggBOevgE",
        "outputId": "5182d14a-730d-4a72-f7b5-fab5c03fd3e3"
      },
      "outputs": [
        {
          "output_type": "stream",
          "name": "stdout",
          "text": [
            "Orignal target values: [4.526 3.585 3.521 ... 0.923 0.847 0.894]\n",
            "Target values after conversion: [4 3 3 ... 0 0 0]\n",
            "Input variables shape: (20640, 8)\n",
            "Output variables shape: (20640,)\n"
          ]
        }
      ],
      "source": [
        "print(\"Orignal target values:\", dataset.target)\n",
        "\n",
        "dataset.target = dataset.target.astype(int)\n",
        "\n",
        "print(\"Target values after conversion:\", dataset.target)\n",
        "print(\"Input variables shape:\", dataset.data.shape)\n",
        "print(\"Output variables shape:\", dataset.target.shape)"
      ]
    },
    {
      "cell_type": "markdown",
      "metadata": {
        "id": "iNx4174W5xRg"
      },
      "source": [
        "The simplest model to use for classification is the K-Nearest Neighbors model. We will use this model to predict the house value with a K value of 1. We will also use the accuracy metric to evaluate the model."
      ]
    },
    {
      "cell_type": "code",
      "execution_count": 4,
      "metadata": {
        "id": "07zpydQj1hIQ"
      },
      "outputs": [],
      "source": [
        "def NN1(traindata, trainlabel, query):\n",
        "    \"\"\"\n",
        "    This function takes in the training data, training labels and a query point\n",
        "    and returns the predicted label for the query point using the nearest neighbour algorithm\n",
        "\n",
        "    traindata: numpy array of shape (n,d) where n is the number of samples and d is the number of features\n",
        "    trainlabel: numpy array of shape (n,) where n is the number of samples\n",
        "    query: numpy array of shape (d,) where d is the number of features\n",
        "\n",
        "    returns: the predicted label for the query point which is the label of the training data which is closest to the query point\n",
        "    \"\"\"\n",
        "    diff = (\n",
        "        traindata - query\n",
        "    )  # find the difference between features. Numpy automatically takes care of the size here\n",
        "    sq = diff * diff  # square the differences\n",
        "    dist = sq.sum(1)  # add up the squares\n",
        "    label = trainlabel[np.argmin(dist)]\n",
        "    return label\n",
        "\n",
        "\n",
        "def NN(traindata, trainlabel, testdata):\n",
        "    \"\"\"\n",
        "    This function takes in the training data, training labels and test data\n",
        "    and returns the predicted labels for the test data using the nearest neighbour algorithm\n",
        "\n",
        "    traindata: numpy array of shape (n,d) where n is the number of samples and d is the number of features\n",
        "    trainlabel: numpy array of shape (n,) where n is the number of samples\n",
        "    testdata: numpy array of shape (m,d) where m is the number of test samples and d is the number of features\n",
        "\n",
        "    returns: the predicted labels for the test data which is the label of the training data which is closest to each test point\n",
        "    \"\"\"\n",
        "    predlabel = np.array([NN1(traindata, trainlabel, i) for i in testdata])\n",
        "    return predlabel"
      ]
    },
    {
      "cell_type": "markdown",
      "metadata": {
        "id": "03JktkfIGaje"
      },
      "source": [
        "We will also define a 'random classifier', which randomly allots labels to each sample"
      ]
    },
    {
      "cell_type": "code",
      "execution_count": 5,
      "metadata": {
        "id": "fogWAtjyGhAH"
      },
      "outputs": [],
      "source": [
        "def RandomClassifier(traindata, trainlabel, testdata):\n",
        "    \"\"\"\n",
        "    This function takes in the training data, training labels and test data\n",
        "    and returns the predicted labels for the test data using the random classifier algorithm\n",
        "\n",
        "    In reality, we don't need these arguments but we are passing them to keep the function signature consistent with other classifiers\n",
        "\n",
        "    traindata: numpy array of shape (n,d) where n is the number of samples and d is the number of features\n",
        "    trainlabel: numpy array of shape (n,) where n is the number of samples\n",
        "    testdata: numpy array of shape (m,d) where m is the number of test samples and d is the number of features\n",
        "\n",
        "    returns: the predicted labels for the test data which is a random label from the training data\n",
        "    \"\"\"\n",
        "\n",
        "    classes = np.unique(trainlabel)\n",
        "    rints = rng.integers(low=0, high=len(classes), size=len(testdata))\n",
        "    predlabel = classes[rints]\n",
        "    return predlabel"
      ]
    },
    {
      "cell_type": "markdown",
      "metadata": {
        "id": "1Hjf1KHs7fU5"
      },
      "source": [
        "We need a metric to evaluate the performance of the model. Let us define a metric 'Accuracy' to see how good our learning algorithm is. Accuracy is the ratio of the number of correctly classified samples to the total number of samples. The higher the accuracy, the better the algorithm. We will use the accuracy metric to evaluate and compate the performance of the K-Nearest Neighbors model and the random classifier."
      ]
    },
    {
      "cell_type": "code",
      "execution_count": 6,
      "metadata": {
        "id": "ouuCqWU07bz-"
      },
      "outputs": [],
      "source": [
        "def Accuracy(gtlabel, predlabel):\n",
        "    \"\"\"\n",
        "    This function takes in the ground-truth labels and predicted labels\n",
        "    and returns the accuracy of the classifier\n",
        "\n",
        "    gtlabel: numpy array of shape (n,) where n is the number of samples\n",
        "    predlabel: numpy array of shape (n,) where n is the number of samples\n",
        "\n",
        "    returns: the accuracy of the classifier which is the number of correct predictions divided by the total number of predictions\n",
        "    \"\"\"\n",
        "    assert len(gtlabel) == len(\n",
        "        predlabel\n",
        "    ), \"Length of the ground-truth labels and predicted labels should be the same\"\n",
        "    correct = (\n",
        "        gtlabel == predlabel\n",
        "    ).sum()  # count the number of times the groundtruth label is equal to the predicted label.\n",
        "    return correct / len(gtlabel)"
      ]
    },
    {
      "cell_type": "markdown",
      "metadata": {
        "id": "4vJFwBFa9Klw"
      },
      "source": [
        "Let us make a function to split the dataset with the desired probability. We will use this function to split the dataset into training and testing sets. We will use the training set to train the model and the testing set to evaluate the model."
      ]
    },
    {
      "cell_type": "code",
      "execution_count": 7,
      "metadata": {
        "id": "Ko0VzpSM2Tdi"
      },
      "outputs": [],
      "source": [
        "def split(data, label, percent):\n",
        "    # generate a random number for each sample\n",
        "    rnd = rng.random(len(label))\n",
        "    split1 = rnd < percent\n",
        "    split2 = rnd >= percent\n",
        "\n",
        "    split1data = data[split1, :]\n",
        "    split1label = label[split1]\n",
        "    split2data = data[split2, :]\n",
        "    split2label = label[split2]\n",
        "    return split1data, split1label, split2data, split2label"
      ]
    },
    {
      "cell_type": "markdown",
      "metadata": {
        "id": "AcK3LEAJ_LGC"
      },
      "source": [
        "We will reserve 20% of our dataset as the test set. We will not change this portion throughout our experiments"
      ]
    },
    {
      "cell_type": "code",
      "execution_count": 8,
      "metadata": {
        "colab": {
          "base_uri": "https://localhost:8080/"
        },
        "id": "bBZkHBLJ1iU-",
        "outputId": "11a1c4ac-36b6-4cd2-fb24-598fb4895835"
      },
      "outputs": [
        {
          "output_type": "stream",
          "name": "stdout",
          "text": [
            "Number of test samples: 4144\n",
            "Number of train samples: 16496\n",
            "Percent of test data: 20.07751937984496 %\n"
          ]
        }
      ],
      "source": [
        "testdata, testlabel, alltraindata, alltrainlabel = split(\n",
        "    dataset.data, dataset.target, 20 / 100\n",
        ")\n",
        "print(\"Number of test samples:\", len(testlabel))\n",
        "print(\"Number of train samples:\", len(alltrainlabel))\n",
        "print(\"Percent of test data:\", len(testlabel) * 100 / len(dataset.target), \"%\")"
      ]
    },
    {
      "cell_type": "markdown",
      "metadata": {
        "id": "a6Ss0Z6IAGNV"
      },
      "source": [
        "## Experiments with splits\n",
        "\n",
        "Let us reserve some of our train data as a validation set"
      ]
    },
    {
      "cell_type": "code",
      "execution_count": 9,
      "metadata": {
        "id": "WFew2iry_7W7"
      },
      "outputs": [],
      "source": [
        "traindata, trainlabel, valdata, vallabel = split(\n",
        "    alltraindata, alltrainlabel, 75 / 100)"
      ]
    },
    {
      "cell_type": "markdown",
      "metadata": {
        "id": "60hiu4clFN1i"
      },
      "source": [
        "What is the accuracy of our classifiers on the train dataset?"
      ]
    },
    {
      "cell_type": "code",
      "execution_count": 10,
      "metadata": {
        "colab": {
          "base_uri": "https://localhost:8080/"
        },
        "id": "DBlZDTHUFTZx",
        "outputId": "1e308323-5d73-4c2b-a6fc-014079258f71"
      },
      "outputs": [
        {
          "output_type": "stream",
          "name": "stdout",
          "text": [
            "Training accuracy using nearest neighbour algorithm: 100.0 %\n",
            "Training accuracy using random classifier:  16.4375808538163 %\n"
          ]
        }
      ],
      "source": [
        "trainpred = NN(traindata, trainlabel, traindata)\n",
        "trainAccuracy = Accuracy(trainlabel, trainpred)\n",
        "print(\"Training accuracy using nearest neighbour algorithm:\", trainAccuracy*100, \"%\")\n",
        "\n",
        "trainpred = RandomClassifier(traindata, trainlabel, traindata)\n",
        "trainAccuracy = Accuracy(trainlabel, trainpred)\n",
        "print(\"Training accuracy using random classifier: \", trainAccuracy*100, \"%\")"
      ]
    },
    {
      "cell_type": "markdown",
      "metadata": {
        "id": "7h08-9gJDtSy"
      },
      "source": [
        "For nearest neighbour, the train accuracy is always 1. The accuracy of the random classifier is close to 1/(number of classes) which is 0.1666 in our case. This is because the random classifier randomly assigns a label to each sample and the probability of assigning the correct label is 1/(number of classes). Let us predict the labels for our validation set and get the accuracy. This accuracy is a good estimate of the accuracy of our model on unseen data."
      ]
    },
    {
      "cell_type": "code",
      "execution_count": 11,
      "metadata": {
        "colab": {
          "base_uri": "https://localhost:8080/"
        },
        "id": "4h7bXoW_2H3v",
        "outputId": "2138d798-bf87-4646-a438-538b1e48c225"
      },
      "outputs": [
        {
          "output_type": "stream",
          "name": "stdout",
          "text": [
            "Validation accuracy using nearest neighbour algorithm: 34.10852713178294 %\n",
            "Validation accuracy using random classifier: 16.884689922480618 %\n"
          ]
        }
      ],
      "source": [
        "valpred = NN(traindata, trainlabel, valdata)\n",
        "valAccuracy = Accuracy(vallabel, valpred)\n",
        "print(\"Validation accuracy using nearest neighbour algorithm:\", valAccuracy*100, \"%\")\n",
        "\n",
        "\n",
        "valpred = RandomClassifier(traindata, trainlabel, valdata)\n",
        "valAccuracy = Accuracy(vallabel, valpred)\n",
        "print(\"Validation accuracy using random classifier:\", valAccuracy*100, \"%\")"
      ]
    },
    {
      "cell_type": "markdown",
      "metadata": {
        "id": "py9bLguFEjfg"
      },
      "source": [
        "Validation accuracy of nearest neighbour is considerably less than its train accuracy while the validation accuracy of random classifier is the same. However, the validation accuracy of nearest neighbour is twice that of the random classifier. Now let us try another random split and check the validation accuracy. We will see that the validation accuracy changes with the split. This is because the validation set is small and the accuracy is highly dependent on the samples in the validation set. We can get a better estimate of the accuracy by using cross-validation."
      ]
    },
    {
      "cell_type": "code",
      "execution_count": 12,
      "metadata": {
        "colab": {
          "base_uri": "https://localhost:8080/"
        },
        "id": "ujm3cyYzEntE",
        "outputId": "0064fc6d-c2ed-4352-b5d8-05904c7dd579"
      },
      "outputs": [
        {
          "output_type": "stream",
          "name": "stdout",
          "text": [
            "Validation accuracy using nearest neighbour algorithm: 34.048257372654156 %\n"
          ]
        }
      ],
      "source": [
        "traindata, trainlabel, valdata, vallabel = split(\n",
        "    alltraindata, alltrainlabel, 75 / 100)\n",
        "valpred = NN(traindata, trainlabel, valdata)\n",
        "valAccuracy = Accuracy(vallabel, valpred)\n",
        "print(\"Validation accuracy using nearest neighbour algorithm:\", valAccuracy*100, \"%\")"
      ]
    },
    {
      "cell_type": "markdown",
      "metadata": {
        "id": "oSOx7U83EKie"
      },
      "source": [
        "You can run the above cell multiple times to try with different random splits.\n",
        "We notice that the accuracy is different for each run, but close together.\n",
        "\n",
        "Now let us compare it with the accuracy we get on the test dataset."
      ]
    },
    {
      "cell_type": "code",
      "execution_count": 13,
      "metadata": {
        "colab": {
          "base_uri": "https://localhost:8080/"
        },
        "id": "PNEZ5ToYBEDW",
        "outputId": "982d285e-f4ae-4615-b6dc-476723d8e5fe"
      },
      "outputs": [
        {
          "output_type": "stream",
          "name": "stdout",
          "text": [
            "Test accuracy: 34.91795366795367 %\n"
          ]
        }
      ],
      "source": [
        "testpred = NN(alltraindata, alltrainlabel, testdata)\n",
        "testAccuracy = Accuracy(testlabel, testpred)\n",
        "\n",
        "print(\"Test accuracy:\", testAccuracy*100, \"%\")"
      ]
    },
    {
      "cell_type": "markdown",
      "metadata": {
        "id": "w3dGD531K3gH"
      },
      "source": [
        "### Try it out for yourself and answer:\n",
        "1. How is the accuracy of the validation set affected if we increase the percentage of validation set? What happens when we reduce it?\n",
        "2. How does the size of the train and validation set affect how well we can predict the accuracy on the test set using the validation set?\n",
        "3. What do you think is a good percentage to reserve for the validation set so that thest two factors are balanced?\n",
        "\n",
        "Answer for both nearest neighbour and random classifier. You can note down the values for your experiments and plot a graph using  <a href=https://matplotlib.org/stable/gallery/lines_bars_and_markers/step_demo.html#sphx-glr-gallery-lines-bars-and-markers-step-demo-py>plt.plot<href>. Check also for extreme values for splits, like 99.9% or 0.1%"
      ]
    },
    {
      "cell_type": "markdown",
      "metadata": {
        "id": "M9zvdYY6evgI"
      },
      "source": [
        "> Exercise: Try to implement a 3 nearest neighbour classifier and compare the accuracy of the 1 nearest neighbour classifier and the 3 nearest neighbour classifier on the test dataset. You can use the KNeighborsClassifier class from the scikit-learn library to implement the K-Nearest Neighbors model. You can set the number of neighbors using the n_neighbors parameter. You can also use the accuracy_score function from the scikit-learn library to calculate the accuracy of the model."
      ]
    },
    {
      "cell_type": "markdown",
      "metadata": {
        "id": "PnYvkAZLQY7h"
      },
      "source": [
        "## Multiple Splits\n",
        "\n",
        "One way to get more accurate estimates for the test accuracy is by using <b>cross-validation</b>. Here, we will try a simple version, where we do multiple train/val splits and take the average of validation accuracies as the test accuracy estimation. Here is a function for doing this. Note that this function will take a long time to execute. You can reduce the number of splits to make it faster."
      ]
    },
    {
      "cell_type": "code",
      "execution_count": 14,
      "metadata": {
        "id": "E4nGCUQXBTzo"
      },
      "outputs": [],
      "source": [
        "def AverageAccuracy(alldata, alllabel, splitpercent, iterations, classifier=NN):\n",
        "    \"\"\"\n",
        "    This function takes in the data, labels, split percentage, number of iterations and classifier function\n",
        "    and returns the average accuracy of the classifier\n",
        "\n",
        "    alldata: numpy array of shape (n,d) where n is the number of samples and d is the number of features\n",
        "    alllabel: numpy array of shape (n,) where n is the number of samples\n",
        "    splitpercent: float which is the percentage of data to be used for training\n",
        "    iterations: int which is the number of iterations to run the classifier\n",
        "    classifier: function which is the classifier function to be used\n",
        "\n",
        "    returns: the average accuracy of the classifier\n",
        "    \"\"\"\n",
        "    accuracy = 0\n",
        "    for ii in range(iterations):\n",
        "        traindata, trainlabel, valdata, vallabel = split(\n",
        "            alldata, alllabel, splitpercent\n",
        "        )\n",
        "        valpred = classifier(traindata, trainlabel, valdata)\n",
        "        accuracy += Accuracy(vallabel, valpred)\n",
        "    return accuracy / iterations  # average of all accuracies"
      ]
    },
    {
      "cell_type": "code",
      "execution_count": 15,
      "metadata": {
        "colab": {
          "base_uri": "https://localhost:8080/"
        },
        "id": "H3qtNar7Bbik",
        "outputId": "1a9d2787-9280-405a-f48e-551646465d89"
      },
      "outputs": [
        {
          "output_type": "stream",
          "name": "stdout",
          "text": [
            "Average validation accuracy: 33.58463539517022 %\n",
            "Test accuracy: 34.91795366795367 %\n"
          ]
        }
      ],
      "source": [
        "avg_acc = AverageAccuracy(alltraindata, alltrainlabel, 75 / 100, 10, classifier=NN)\n",
        "print(\"Average validation accuracy:\", avg_acc*100, \"%\")\n",
        "testpred = NN(alltraindata, alltrainlabel, testdata)\n",
        "\n",
        "print(\"Test accuracy:\", Accuracy(testlabel, testpred)*100, \"%\")"
      ]
    },
    {
      "cell_type": "markdown",
      "metadata": {
        "id": "33GIn4x5VH-d"
      },
      "source": [
        "This is a very simple way of doing cross-validation. There are many well-known algorithms for cross-validation, like k-fold cross-validation, leave-one-out etc. This will be covered in detail in a later module. For more information about cross-validation, check <a href=https://en.wikipedia.org/wiki/Cross-validation_(statistics)>Cross-validatioin (Wikipedia)</a>\n",
        "\n",
        "### Questions\n",
        "1. Does averaging the validation accuracy across multiple splits give more consistent results?Yes, averaging the validation accuracy across multiple splits (e.g., using k-fold cross-validation) provides more consistent and reliable results than using a single validation split. Here’s why:\n",
        "\n",
        "\n",
        "---\n",
        "\n",
        "Benefits of Averaging Across Multiple Splits\n",
        "\n",
        "1. Reduces Variance:\n",
        "\n",
        "A single train-test split might not represent the overall data distribution, especially if the dataset is small or imbalanced.\n",
        "\n",
        "Multiple splits ensure the model is evaluated on various subsets, reducing the impact of random variations.\n",
        "\n",
        "\n",
        "\n",
        "2. Better Representation of Performance:\n",
        "\n",
        "Each fold uses a different portion of the data for training and validation.\n",
        "\n",
        "This provides a more comprehensive understanding of how the model performs across the entire dataset.\n",
        "\n",
        "\n",
        "\n",
        "3. Avoids Overfitting to a Specific Split:\n",
        "\n",
        "Models might perform well on a particular validation set (lucky split) but poorly on others.\n",
        "\n",
        "Averaging across splits mitigates the risk of overfitting to the validation data.\n",
        "\n",
        "\n",
        "\n",
        "4. Reliable Hyperparameter Tuning:\n",
        "\n",
        "When optimizing hyperparameters, using cross-validation ensures that the chosen configuration generalizes well, not just for a single split.\n",
        "\n",
        "\n",
        "\n",
        "\n",
        "\n",
        "---\n",
        "\n",
        "How k-Fold Cross-Validation Works\n",
        "\n",
        "The data is divided into k subsets (folds).\n",
        "\n",
        "The model is trained on  folds and validated on the remaining fold.\n",
        "\n",
        "This process is repeated  times, with each fold serving as the validation set once.\n",
        "\n",
        "The final metric (e.g., validation accuracy) is averaged across all folds.\n",
        "\n",
        "\n",
        "\n",
        "---\n",
        "\n",
        "Example of Averaging Validation Accuracy\n",
        "\n",
        "For 5-fold cross-validation, the validation accuracies might be:\n",
        "\n",
        "Average Accuracy =\n",
        "\n",
        "This average gives a more stable estimate of the model’s performance.\n",
        "\n",
        "\n",
        "---\n",
        "\n",
        "When Does It Matter Most?\n",
        "\n",
        "Small Datasets: Cross-validation makes better use of limited data by ensuring all data points are used for both training and validation.\n",
        "\n",
        "Imbalanced Data: Averaging over splits helps account for varying class distributions across folds.\n",
        "\n",
        "High Variability in Data: Reduces the impact of outliers or peculiarities in individual splits.\n",
        "\n",
        "\n",
        "\n",
        "---\n",
        "\n",
        "Caveats\n",
        "\n",
        "1. Computational Cost:\n",
        "\n",
        "Cross-validation requires training the model  times, which can be computationally expensive, especially for large datasets or complex models.\n",
        "\n",
        "Solution: Use stratified k-fold (preserves class balance) or smaller  (e.g., 5 instead of 10).\n",
        "\n",
        "\n",
        "\n",
        "2. Overlapping Training Data:\n",
        "\n",
        "Data points appear in multiple training folds, which might introduce a slight bias.\n",
        "\n",
        "However, this is typically negligible compared to the benefit of stability.\n",
        "\n",
        "\n",
        "\n",
        "\n",
        "\n",
        "---\n",
        "\n",
        "Conclusion\n",
        "\n",
        "Averaging validation accuracy across multiple splits indeed gives more consistent and reliable results, particularly for hyperparameter tuning and performance estimation. If computational cost isn’t a major concern, it’s a best practice to use techniques like k-fold cross-validation. Let me know if you'd like a Python implementation!\n",
        "\n",
        "\n",
        "2. Does it give more accurate estimate of test accuracy?Yes, averaging validation accuracy across multiple splits (e.g., using k-fold cross-validation) generally provides a more accurate estimate of test accuracy compared to using a single validation split. Here's why:\n",
        "\n",
        "\n",
        "---\n",
        "\n",
        "1. Cross-Validation Mimics Real-World Test Conditions\n",
        "\n",
        "In cross-validation, the model is evaluated on different subsets of the data, simulating multiple test scenarios. This process ensures the estimate reflects the model's ability to generalize across the entire dataset, not just one particular split.\n",
        "\n",
        "A single validation split might overestimate or underestimate accuracy, especially if the split is not representative of the data distribution.\n",
        "\n",
        "Cross-validation mitigates this by combining results from multiple splits.\n",
        "\n",
        "\n",
        "\n",
        "---\n",
        "\n",
        "2. Reduces Overfitting to a Specific Validation Set\n",
        "\n",
        "When you rely on a single split for validation:\n",
        "\n",
        "The model might overfit or underfit to the validation set's specific characteristics.\n",
        "\n",
        "Cross-validation avoids this by repeatedly training and validating on different subsets.\n",
        "\n",
        "\n",
        "The averaged validation accuracy across folds serves as a more robust approximation of how the model will perform on unseen data.\n",
        "\n",
        "\n",
        "---\n",
        "\n",
        "3. Considers Variability in Data\n",
        "\n",
        "If your dataset has:\n",
        "\n",
        "Outliers: These may disproportionately affect a single test split, skewing results.\n",
        "\n",
        "Class Imbalances: Cross-validation ensures every class is represented across splits (with stratified k-fold for classification tasks).\n",
        "\n",
        "\n",
        "Averaging across folds smooths out these variabilities, giving a better sense of how the model handles all data.\n",
        "\n",
        "\n",
        "---\n",
        "\n",
        "4. Empirical Evidence\n",
        "\n",
        "Research and practical experience show that cross-validation provides a closer estimate of test accuracy compared to using a fixed train-test split. Models tuned using cross-validation tend to generalize better to unseen test data.\n",
        "\n",
        "\n",
        "---\n",
        "\n",
        "5. When It Might Not Improve Accuracy Estimates\n",
        "\n",
        "Data Leakage: If there’s leakage between folds (e.g., overlapping time-series data), cross-validation can lead to overly optimistic results.\n",
        "\n",
        "Improper Cross-Validation Design: For example, not stratifying folds in imbalanced datasets can lead to unreliable estimates.\n",
        "\n",
        "\n",
        "\n",
        "---\n",
        "\n",
        "Conclusion\n",
        "\n",
        "Averaging validation accuracy from cross-validation is not only more consistent but also more accurate as an estimate of test accuracy because it reduces the impact of randomness and provides a more comprehensive evaluation across the dataset. However, the final accuracy on a separate test set is the true measure of performance.\n",
        "\n",
        "Would you like to see an example of using cross-validation to estimate test accuracy in Python?\n",
        "\n",
        "\n",
        "3. What is the effect of the number of iterations on the estimate? Do we get a better estimate with higher iterations?The number of iterations (e.g., the number of folds in k-fold cross-validation or repeated cross-validation) can affect the accuracy and reliability of the estimate of the test accuracy. Here’s how it works and the trade-offs involved:\n",
        "\n",
        "\n",
        "---\n",
        "\n",
        "Effect of Increasing the Number of Iterations\n",
        "\n",
        "1. Improved Stability\n",
        "\n",
        "Higher iterations reduce variance in the accuracy estimate by averaging over more splits. This means the results become less sensitive to how the data is divided.\n",
        "\n",
        "For example, using 10-fold cross-validation instead of 5-fold can yield a more stable and reliable estimate, especially for smaller datasets.\n",
        "\n",
        "\n",
        "\n",
        "2. More Comprehensive Use of Data\n",
        "\n",
        "With more folds, each fold uses smaller validation sets and larger training sets, which can lead to more generalizable models and better approximations of real-world test accuracy.\n",
        "\n",
        "Example: In 5-fold cross-validation, each model is trained on 80% of the data, while in 10-fold, it’s trained on 90%.\n",
        "\n",
        "\n",
        "\n",
        "3. Diminishing Returns\n",
        "\n",
        "After a certain point, increasing iterations (e.g., going from 10 to 20 folds) provides only marginal improvements in the estimate.\n",
        "\n",
        "The improvement in accuracy estimate stabilizes as the number of folds increases because the model already trains and validates on nearly all data points across the splits.\n",
        "\n",
        "\n",
        "\n",
        "\n",
        "---\n",
        "\n",
        "Trade-Offs of Higher Iterations\n",
        "\n",
        "1. Computational Cost\n",
        "\n",
        "More iterations mean the model must be trained and evaluated more times, significantly increasing computation time, especially for complex models or large datasets.\n",
        "\n",
        "Example: For a 10-fold cross-validation, the model is trained and evaluated 10 times. Doubling to 20 folds doubles the computation time.\n",
        "\n",
        "\n",
        "\n",
        "2. Bias-Variance Trade-Off\n",
        "\n",
        "Lower Number of Folds (e.g., 3-fold):\n",
        "\n",
        "Validation sets are larger, which may introduce higher bias in the estimate because the model trains on less data in each fold.\n",
        "\n",
        "\n",
        "Higher Number of Folds (e.g., 10-20 folds):\n",
        "\n",
        "Validation sets are smaller, which may introduce higher variance in the estimate because smaller validation sets are more sensitive to outliers or noise.\n",
        "\n",
        "\n",
        "\n",
        "3. Overlapping Training Sets\n",
        "\n",
        "As the number of folds increases, the overlap between training sets becomes more significant, which may reduce the diversity of training data configurations and limit the benefit of additional folds.\n",
        "\n",
        "\n",
        "\n",
        "---\n",
        "\n",
        "When Do Higher Iterations Provide a Better Estimate?\n",
        "\n",
        "1. Small Datasets:\n",
        "\n",
        "For datasets with limited data points, higher iterations ensure the model trains on nearly all data points at least once, improving the reliability of the estimate.\n",
        "\n",
        "Example: Using leave-one-out cross-validation (LOOCV) for very small datasets.\n",
        "\n",
        "\n",
        "\n",
        "2. High Variability in Data:\n",
        "\n",
        "When the dataset contains significant noise or outliers, higher iterations average out the randomness better, leading to a more robust estimate.\n",
        "\n",
        "\n",
        "\n",
        "\n",
        "\n",
        "---\n",
        "\n",
        "Guidelines for Choosing Iterations\n",
        "\n",
        "1. 5-Fold Cross-Validation:\n",
        "\n",
        "A good balance between computational cost and reliability for most datasets.\n",
        "\n",
        "\n",
        "\n",
        "2. 10-Fold Cross-Validation:\n",
        "\n",
        "Recommended for smaller datasets or when you need a more accurate estimate.\n",
        "\n",
        "\n",
        "\n",
        "3. Repeated k-Fold Cross-Validation:\n",
        "\n",
        "Repeat the cross-validation process several times (e.g., 5-fold repeated 5 times) to further reduce variance in the estimate.\n",
        "\n",
        "\n",
        "\n",
        "4. Leave-One-Out Cross-Validation (LOOCV):\n",
        "\n",
        "Best for very small datasets, but computationally expensive and can have high variance due to small validation sets.\n",
        "\n",
        "\n",
        "\n",
        "\n",
        "\n",
        "---\n",
        "\n",
        "Conclusion\n",
        "\n",
        "Higher iterations generally provide more accurate and stable estimates of test accuracy, but the improvements diminish as iterations increase beyond a certain point.\n",
        "\n",
        "For practical purposes:\n",
        "\n",
        "Use 5-10 folds for most cases.\n",
        "\n",
        "Consider repeated k-fold cross-validation if stability is critical.\n",
        "\n",
        "\n",
        "\n",
        "Would you like a Python example to demonstrate the effect of iterations on accuracy estimates?\n",
        "\n",
        "\n",
        "4. Consider the results you got for the previous questions. Can we deal with a very small train dataset or validation dataset by increasing the iterations?Yes, increasing the number of iterations (e.g., using more folds in cross-validation or repeating cross-validation) can help deal with very small training or validation datasets. However, there are some caveats and trade-offs to consider. Let’s break it down:\n",
        "\n",
        "\n",
        "---\n",
        "\n",
        "1. How Increasing Iterations Helps with Small Datasets\n",
        "\n",
        "a) Better Utilization of Data\n",
        "\n",
        "In cross-validation, every data point gets used for both training and validation multiple times. For small datasets, this maximizes the use of limited data.\n",
        "\n",
        "Example:\n",
        "\n",
        "With 5-fold cross-validation, each fold trains on 80% of the data and validates on 20%.\n",
        "\n",
        "With 10-fold cross-validation, the model trains on 90% of the data and validates on 10%.\n",
        "\n",
        "Smaller validation sets mean more data is available for training, improving model learning.\n",
        "\n",
        "\n",
        "\n",
        "b) Reduces Overfitting to a Specific Split\n",
        "\n",
        "In a small dataset, a single train-test split can lead to overfitting on the small training set or underestimating performance on a small validation set.\n",
        "\n",
        "Multiple iterations average out the variability caused by small sample sizes, providing a more reliable estimate of model performance.\n",
        "\n",
        "\n",
        "c) Handles Variability in Small Datasets\n",
        "\n",
        "Small datasets are more prone to noise and outliers. By increasing the number of iterations, the effect of these anomalies is averaged out, improving the stability of the results.\n",
        "\n",
        "\n",
        "\n",
        "---\n",
        "\n",
        "2. Challenges of Small Train or Validation Datasets\n",
        "\n",
        "a) Risk of Overlap Between Training and Validation\n",
        "\n",
        "As you increase the number of folds, the size of the validation set decreases (e.g., in leave-one-out cross-validation (LOOCV), each fold contains a single validation point).\n",
        "\n",
        "With small validation sets, the model's performance may vary significantly, and the evaluation becomes sensitive to individual data points.\n",
        "\n",
        "\n",
        "b) Limited Generalization\n",
        "\n",
        "If the training dataset is very small, the model may struggle to learn meaningful patterns, regardless of the number of iterations.\n",
        "\n",
        "Even with more iterations, the fundamental limitation of insufficient training data remains.\n",
        "\n",
        "\n",
        "\n",
        "---\n",
        "\n",
        "3. Trade-Offs of Increasing Iterations for Small Datasets\n",
        "\n",
        "a) Computational Cost\n",
        "\n",
        "More iterations mean more training cycles. For very small datasets, LOOCV or 10-fold cross-validation might be feasible, but for complex models or large datasets, it can be computationally expensive.\n",
        "\n",
        "\n",
        "b) Risk of Overfitting\n",
        "\n",
        "Repeated exposure to the same data points in different folds may lead to overfitting to the overall dataset, especially for high-capacity models like neural networks.\n",
        "\n",
        "\n",
        "\n",
        "---\n",
        "\n",
        "4. Alternatives to Increasing Iterations\n",
        "\n",
        "If the dataset is too small, simply increasing the number of iterations might not fully solve the problem. Consider these additional strategies:\n",
        "\n",
        "a) Data Augmentation\n",
        "\n",
        "For image, text, or time-series data, augment the dataset by creating synthetic variations (e.g., rotating images, paraphrasing text, or generating new samples).\n",
        "\n",
        "\n",
        "b) Bootstrapping\n",
        "\n",
        "Use resampling techniques like bootstrapping to create multiple datasets and estimate model performance.\n",
        "\n",
        "\n",
        "c) Transfer Learning\n",
        "\n",
        "Pretrained models can leverage knowledge from larger datasets and fine-tune on the small dataset, reducing the dependency on large training data.\n",
        "\n",
        "\n",
        "d) Regularization\n",
        "\n",
        "Add regularization (e.g., L1, L2, dropout) to prevent overfitting when the training data is small.\n",
        "\n",
        "\n",
        "e) Semi-Supervised or Unsupervised Learning\n",
        "\n",
        "Leverage unlabeled data to extract useful patterns or representations and use these to enhance learning on the small labeled dataset.\n",
        "\n",
        "\n",
        "\n",
        "---\n",
        "\n",
        "5. Practical Example\n",
        "\n",
        "Suppose you have only 50 samples in your dataset:\n",
        "\n",
        "10-Fold Cross-Validation: Train on 45 samples, validate on 5 samples in each fold.\n",
        "\n",
        "Leave-One-Out Cross-Validation (LOOCV): Train on 49 samples, validate on 1 sample in each fold.\n",
        "\n",
        "\n",
        "While LOOCV maximizes training size for each iteration, the variability of validation results can be high due to the single-sample validation set.\n",
        "\n",
        "\n",
        "---\n",
        "\n",
        "Conclusion\n",
        "\n",
        "Increasing iterations (e.g., using k-fold cross-validation, LOOCV, or repeated cross-validation) can help address small training or validation datasets by:\n",
        "\n",
        "1. Making better use of the data.\n",
        "\n",
        "\n",
        "2. Reducing bias from small validation sizes.\n",
        "\n",
        "\n",
        "3. Providing a more stable and reliable performance estimate.\n",
        "\n",
        "\n",
        "\n",
        "However, for extremely small datasets, consider combining this with techniques like data augmentation, transfer learning, or regularization to overcome the inherent limitations of small sample sizes.\n",
        "\n",
        "Would you like a code example demonstrating how to handle a small dataset with cross-validation?"
      ]
    },
    {
      "cell_type": "markdown",
      "metadata": {
        "id": "z-SBxy1qevgJ"
      },
      "source": [
        "> Exercise: How does the accuracy of the 3 nearest neighbour classifier change with the number of splits? How is it affected by the split size? Compare the results with the 1 nearest neighbour classifier."
      ]
    }
  ],
  "metadata": {
    "colab": {
      "provenance": [],
      "include_colab_link": true
    },
    "kernelspec": {
      "display_name": "Python 3",
      "name": "python3"
    },
    "language_info": {
      "codemirror_mode": {
        "name": "ipython",
        "version": 3
      },
      "file_extension": ".py",
      "mimetype": "text/x-python",
      "name": "python",
      "nbconvert_exporter": "python",
      "pygments_lexer": "ipython3",
      "version": "3.10.10"
    }
  },
  "nbformat": 4,
  "nbformat_minor": 0
}